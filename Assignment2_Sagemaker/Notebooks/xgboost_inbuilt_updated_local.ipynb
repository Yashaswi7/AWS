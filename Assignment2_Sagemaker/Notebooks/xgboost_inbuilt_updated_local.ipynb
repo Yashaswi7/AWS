{
  "nbformat": 4,
  "nbformat_minor": 0,
  "metadata": {
    "kernelspec": {
      "display_name": "Python 3",
      "language": "python",
      "name": "python3"
    },
    "language_info": {
      "codemirror_mode": {
        "name": "ipython",
        "version": 3
      },
      "file_extension": ".py",
      "mimetype": "text/x-python",
      "name": "python",
      "nbconvert_exporter": "python",
      "pygments_lexer": "ipython3",
      "version": "3.7.3"
    },
    "colab": {
      "name": "xgboost_inbuilt_updated_local (1).ipynb",
      "provenance": [],
      "collapsed_sections": []
    }
  },
  "cells": [
    {
      "cell_type": "markdown",
      "metadata": {
        "id": "e1f4NNrilyzJ"
      },
      "source": [
        "# 1. Library and Installations"
      ]
    },
    {
      "cell_type": "code",
      "metadata": {
        "id": "Ofg-LbwhlyzK",
        "outputId": "bae4046d-eeac-44f6-deb2-b2ac0fc71f48"
      },
      "source": [
        "!pip install sagemaker-experiments\n",
        "!pip install s3fs\n",
        "!pip install matplotlib\n",
        "!pip install seaborn\n",
        "!pip install shap\n",
        "!pip install smdebug"
      ],
      "execution_count": null,
      "outputs": [
        {
          "output_type": "stream",
          "text": [
            "Requirement already satisfied: sagemaker-experiments in /home/ec2-user/anaconda3/envs/python3/lib/python3.6/site-packages (0.1.31)\n",
            "Requirement already satisfied: boto3>=1.16.27 in /home/ec2-user/anaconda3/envs/python3/lib/python3.6/site-packages (from sagemaker-experiments) (1.17.72)\n",
            "Requirement already satisfied: jmespath<1.0.0,>=0.7.1 in /home/ec2-user/anaconda3/envs/python3/lib/python3.6/site-packages (from boto3>=1.16.27->sagemaker-experiments) (0.10.0)\n",
            "Requirement already satisfied: botocore<1.21.0,>=1.20.72 in /home/ec2-user/anaconda3/envs/python3/lib/python3.6/site-packages (from boto3>=1.16.27->sagemaker-experiments) (1.20.72)\n",
            "Requirement already satisfied: s3transfer<0.5.0,>=0.4.0 in /home/ec2-user/anaconda3/envs/python3/lib/python3.6/site-packages (from boto3>=1.16.27->sagemaker-experiments) (0.4.2)\n",
            "Requirement already satisfied: urllib3<1.27,>=1.25.4 in /home/ec2-user/anaconda3/envs/python3/lib/python3.6/site-packages (from botocore<1.21.0,>=1.20.72->boto3>=1.16.27->sagemaker-experiments) (1.26.4)\n",
            "Requirement already satisfied: python-dateutil<3.0.0,>=2.1 in /home/ec2-user/anaconda3/envs/python3/lib/python3.6/site-packages (from botocore<1.21.0,>=1.20.72->boto3>=1.16.27->sagemaker-experiments) (2.8.1)\n",
            "Requirement already satisfied: six>=1.5 in /home/ec2-user/anaconda3/envs/python3/lib/python3.6/site-packages (from python-dateutil<3.0.0,>=2.1->botocore<1.21.0,>=1.20.72->boto3>=1.16.27->sagemaker-experiments) (1.15.0)\n",
            "Requirement already satisfied: s3fs in /home/ec2-user/anaconda3/envs/python3/lib/python3.6/site-packages (0.4.2)\n",
            "Requirement already satisfied: botocore>=1.12.91 in /home/ec2-user/anaconda3/envs/python3/lib/python3.6/site-packages (from s3fs) (1.20.72)\n",
            "Requirement already satisfied: fsspec>=0.6.0 in /home/ec2-user/anaconda3/envs/python3/lib/python3.6/site-packages (from s3fs) (0.8.7)\n",
            "Requirement already satisfied: jmespath<1.0.0,>=0.7.1 in /home/ec2-user/anaconda3/envs/python3/lib/python3.6/site-packages (from botocore>=1.12.91->s3fs) (0.10.0)\n",
            "Requirement already satisfied: python-dateutil<3.0.0,>=2.1 in /home/ec2-user/anaconda3/envs/python3/lib/python3.6/site-packages (from botocore>=1.12.91->s3fs) (2.8.1)\n",
            "Requirement already satisfied: urllib3<1.27,>=1.25.4 in /home/ec2-user/anaconda3/envs/python3/lib/python3.6/site-packages (from botocore>=1.12.91->s3fs) (1.26.4)\n",
            "Requirement already satisfied: importlib-metadata in /home/ec2-user/anaconda3/envs/python3/lib/python3.6/site-packages (from fsspec>=0.6.0->s3fs) (3.7.0)\n",
            "Requirement already satisfied: six>=1.5 in /home/ec2-user/anaconda3/envs/python3/lib/python3.6/site-packages (from python-dateutil<3.0.0,>=2.1->botocore>=1.12.91->s3fs) (1.15.0)\n",
            "Requirement already satisfied: zipp>=0.5 in /home/ec2-user/anaconda3/envs/python3/lib/python3.6/site-packages (from importlib-metadata->fsspec>=0.6.0->s3fs) (3.4.0)\n",
            "Requirement already satisfied: typing-extensions>=3.6.4 in /home/ec2-user/anaconda3/envs/python3/lib/python3.6/site-packages (from importlib-metadata->fsspec>=0.6.0->s3fs) (3.7.4.3)\n",
            "Requirement already satisfied: matplotlib in /home/ec2-user/anaconda3/envs/python3/lib/python3.6/site-packages (3.3.4)\n",
            "Requirement already satisfied: numpy>=1.15 in /home/ec2-user/anaconda3/envs/python3/lib/python3.6/site-packages (from matplotlib) (1.19.5)\n",
            "Requirement already satisfied: kiwisolver>=1.0.1 in /home/ec2-user/anaconda3/envs/python3/lib/python3.6/site-packages (from matplotlib) (1.3.1)\n",
            "Requirement already satisfied: cycler>=0.10 in /home/ec2-user/anaconda3/envs/python3/lib/python3.6/site-packages (from matplotlib) (0.10.0)\n",
            "Requirement already satisfied: pyparsing!=2.0.4,!=2.1.2,!=2.1.6,>=2.0.3 in /home/ec2-user/anaconda3/envs/python3/lib/python3.6/site-packages (from matplotlib) (2.4.7)\n",
            "Requirement already satisfied: pillow>=6.2.0 in /home/ec2-user/anaconda3/envs/python3/lib/python3.6/site-packages (from matplotlib) (7.2.0)\n",
            "Requirement already satisfied: python-dateutil>=2.1 in /home/ec2-user/anaconda3/envs/python3/lib/python3.6/site-packages (from matplotlib) (2.8.1)\n",
            "Requirement already satisfied: six in /home/ec2-user/anaconda3/envs/python3/lib/python3.6/site-packages (from cycler>=0.10->matplotlib) (1.15.0)\n",
            "Requirement already satisfied: seaborn in /home/ec2-user/anaconda3/envs/python3/lib/python3.6/site-packages (0.11.1)\n",
            "Requirement already satisfied: pandas>=0.23 in /home/ec2-user/anaconda3/envs/python3/lib/python3.6/site-packages (from seaborn) (1.1.5)\n",
            "Requirement already satisfied: matplotlib>=2.2 in /home/ec2-user/anaconda3/envs/python3/lib/python3.6/site-packages (from seaborn) (3.3.4)\n",
            "Requirement already satisfied: numpy>=1.15 in /home/ec2-user/anaconda3/envs/python3/lib/python3.6/site-packages (from seaborn) (1.19.5)\n",
            "Requirement already satisfied: scipy>=1.0 in /home/ec2-user/anaconda3/envs/python3/lib/python3.6/site-packages (from seaborn) (1.5.3)\n",
            "Requirement already satisfied: python-dateutil>=2.1 in /home/ec2-user/anaconda3/envs/python3/lib/python3.6/site-packages (from matplotlib>=2.2->seaborn) (2.8.1)\n",
            "Requirement already satisfied: pillow>=6.2.0 in /home/ec2-user/anaconda3/envs/python3/lib/python3.6/site-packages (from matplotlib>=2.2->seaborn) (7.2.0)\n",
            "Requirement already satisfied: pyparsing!=2.0.4,!=2.1.2,!=2.1.6,>=2.0.3 in /home/ec2-user/anaconda3/envs/python3/lib/python3.6/site-packages (from matplotlib>=2.2->seaborn) (2.4.7)\n",
            "Requirement already satisfied: cycler>=0.10 in /home/ec2-user/anaconda3/envs/python3/lib/python3.6/site-packages (from matplotlib>=2.2->seaborn) (0.10.0)\n",
            "Requirement already satisfied: kiwisolver>=1.0.1 in /home/ec2-user/anaconda3/envs/python3/lib/python3.6/site-packages (from matplotlib>=2.2->seaborn) (1.3.1)\n",
            "Requirement already satisfied: six in /home/ec2-user/anaconda3/envs/python3/lib/python3.6/site-packages (from cycler>=0.10->matplotlib>=2.2->seaborn) (1.15.0)\n",
            "Requirement already satisfied: pytz>=2017.2 in /home/ec2-user/anaconda3/envs/python3/lib/python3.6/site-packages (from pandas>=0.23->seaborn) (2021.1)\n",
            "Requirement already satisfied: shap in /home/ec2-user/anaconda3/envs/python3/lib/python3.6/site-packages (0.39.0)\n",
            "Requirement already satisfied: tqdm>4.25.0 in /home/ec2-user/anaconda3/envs/python3/lib/python3.6/site-packages (from shap) (4.60.0)\n",
            "Requirement already satisfied: pandas in /home/ec2-user/anaconda3/envs/python3/lib/python3.6/site-packages (from shap) (1.1.5)\n",
            "Requirement already satisfied: slicer==0.0.7 in /home/ec2-user/anaconda3/envs/python3/lib/python3.6/site-packages (from shap) (0.0.7)\n",
            "Requirement already satisfied: scikit-learn in /home/ec2-user/anaconda3/envs/python3/lib/python3.6/site-packages (from shap) (0.24.1)\n",
            "Requirement already satisfied: numba in /home/ec2-user/anaconda3/envs/python3/lib/python3.6/site-packages (from shap) (0.52.0)\n",
            "Requirement already satisfied: scipy in /home/ec2-user/anaconda3/envs/python3/lib/python3.6/site-packages (from shap) (1.5.3)\n",
            "Requirement already satisfied: cloudpickle in /home/ec2-user/anaconda3/envs/python3/lib/python3.6/site-packages (from shap) (1.6.0)\n",
            "Requirement already satisfied: numpy in /home/ec2-user/anaconda3/envs/python3/lib/python3.6/site-packages (from shap) (1.19.5)\n",
            "Requirement already satisfied: llvmlite<0.36,>=0.35.0 in /home/ec2-user/anaconda3/envs/python3/lib/python3.6/site-packages (from numba->shap) (0.35.0)\n",
            "Requirement already satisfied: setuptools in /home/ec2-user/anaconda3/envs/python3/lib/python3.6/site-packages (from numba->shap) (49.6.0.post20210108)\n",
            "Requirement already satisfied: python-dateutil>=2.7.3 in /home/ec2-user/anaconda3/envs/python3/lib/python3.6/site-packages (from pandas->shap) (2.8.1)\n",
            "Requirement already satisfied: pytz>=2017.2 in /home/ec2-user/anaconda3/envs/python3/lib/python3.6/site-packages (from pandas->shap) (2021.1)\n",
            "Requirement already satisfied: six>=1.5 in /home/ec2-user/anaconda3/envs/python3/lib/python3.6/site-packages (from python-dateutil>=2.7.3->pandas->shap) (1.15.0)\n",
            "Requirement already satisfied: threadpoolctl>=2.0.0 in /home/ec2-user/anaconda3/envs/python3/lib/python3.6/site-packages (from scikit-learn->shap) (2.1.0)\n",
            "Requirement already satisfied: joblib>=0.11 in /home/ec2-user/anaconda3/envs/python3/lib/python3.6/site-packages (from scikit-learn->shap) (1.0.1)\n",
            "Requirement already satisfied: smdebug in /home/ec2-user/anaconda3/envs/python3/lib/python3.6/site-packages (1.0.9)\n",
            "Requirement already satisfied: boto3>=1.10.32 in /home/ec2-user/anaconda3/envs/python3/lib/python3.6/site-packages (from smdebug) (1.17.72)\n",
            "Requirement already satisfied: pyinstrument>=3.1.3 in /home/ec2-user/anaconda3/envs/python3/lib/python3.6/site-packages (from smdebug) (3.4.2)\n",
            "Requirement already satisfied: protobuf>=3.6.0 in /home/ec2-user/anaconda3/envs/python3/lib/python3.6/site-packages (from smdebug) (3.15.2)\n",
            "Requirement already satisfied: numpy>=1.16.0 in /home/ec2-user/anaconda3/envs/python3/lib/python3.6/site-packages (from smdebug) (1.19.5)\n",
            "Requirement already satisfied: packaging in /home/ec2-user/anaconda3/envs/python3/lib/python3.6/site-packages (from smdebug) (20.9)\n",
            "Requirement already satisfied: s3transfer<0.5.0,>=0.4.0 in /home/ec2-user/anaconda3/envs/python3/lib/python3.6/site-packages (from boto3>=1.10.32->smdebug) (0.4.2)\n",
            "Requirement already satisfied: jmespath<1.0.0,>=0.7.1 in /home/ec2-user/anaconda3/envs/python3/lib/python3.6/site-packages (from boto3>=1.10.32->smdebug) (0.10.0)\n",
            "Requirement already satisfied: botocore<1.21.0,>=1.20.72 in /home/ec2-user/anaconda3/envs/python3/lib/python3.6/site-packages (from boto3>=1.10.32->smdebug) (1.20.72)\n",
            "Requirement already satisfied: python-dateutil<3.0.0,>=2.1 in /home/ec2-user/anaconda3/envs/python3/lib/python3.6/site-packages (from botocore<1.21.0,>=1.20.72->boto3>=1.10.32->smdebug) (2.8.1)\n",
            "Requirement already satisfied: urllib3<1.27,>=1.25.4 in /home/ec2-user/anaconda3/envs/python3/lib/python3.6/site-packages (from botocore<1.21.0,>=1.20.72->boto3>=1.10.32->smdebug) (1.26.4)\n",
            "Requirement already satisfied: six>=1.9 in /home/ec2-user/anaconda3/envs/python3/lib/python3.6/site-packages (from protobuf>=3.6.0->smdebug) (1.15.0)\n",
            "Requirement already satisfied: pyinstrument-cext>=0.2.2 in /home/ec2-user/anaconda3/envs/python3/lib/python3.6/site-packages (from pyinstrument>=3.1.3->smdebug) (0.2.4)\n",
            "Requirement already satisfied: pyparsing>=2.0.2 in /home/ec2-user/anaconda3/envs/python3/lib/python3.6/site-packages (from packaging->smdebug) (2.4.7)\n"
          ],
          "name": "stdout"
        }
      ]
    },
    {
      "cell_type": "code",
      "metadata": {
        "id": "MrTssGDslyzM"
      },
      "source": [
        "from io import StringIO\n",
        "import numpy as np\n",
        "import os\n",
        "import pandas as pd\n",
        "import boto3\n",
        "import time\n",
        "import s3fs\n",
        "from datetime import datetime\n",
        "\n",
        "import matplotlib.pyplot as plt\n",
        "import seaborn as sns\n",
        "import re\n",
        "import shap\n",
        "from scipy import stats\n",
        "import copy"
      ],
      "execution_count": null,
      "outputs": []
    },
    {
      "cell_type": "code",
      "metadata": {
        "id": "cS9rcICjlyzM",
        "outputId": "12f49a93-d485-4f83-8bed-4b41c3306994"
      },
      "source": [
        "import sagemaker\n",
        "from sagemaker import get_execution_role\n",
        "from sagemaker.analytics import ExperimentAnalytics\n",
        "\n",
        "from smexperiments.experiment import Experiment\n",
        "from smexperiments.trial import Trial\n",
        "from smexperiments.trial_component import TrialComponent\n",
        "from smexperiments.tracker import Tracker\n",
        "\n",
        "from sagemaker.sklearn.estimator import SKLearn\n",
        "from sagemaker.debugger import rule_configs, Rule, DebuggerHookConfig,CollectionConfig\n",
        "from sagemaker.estimator import Estimator\n",
        "from sagemaker.session import s3_input\n",
        "from sagemaker.amazon.amazon_estimator import get_image_uri\n",
        "from sagemaker.session import Session\n",
        "\n",
        "from smdebug.trials  import create_trial"
      ],
      "execution_count": null,
      "outputs": [
        {
          "output_type": "stream",
          "text": [
            "[2021-05-19 08:27:51.057 ip-172-16-47-84:18285 INFO utils.py:27] RULE_JOB_STOP_SIGNAL_FILENAME: None\n"
          ],
          "name": "stdout"
        }
      ]
    },
    {
      "cell_type": "markdown",
      "metadata": {
        "id": "YuIzB3eSlyzN"
      },
      "source": [
        "# 2. Configs"
      ]
    },
    {
      "cell_type": "code",
      "metadata": {
        "id": "HhrUWtFUlyzO",
        "outputId": "2d9b4ae6-8426-4957-d218-1ba7370d1726"
      },
      "source": [
        "now = datetime.now()\n",
        "current_time = now.strftime(\"%Y-%m-%d--%H-%M-%S\")\n",
        "print(current_time)"
      ],
      "execution_count": null,
      "outputs": [
        {
          "output_type": "stream",
          "text": [
            "2021-05-19--08-27-51\n"
          ],
          "name": "stdout"
        }
      ]
    },
    {
      "cell_type": "code",
      "metadata": {
        "id": "JOPhiSOmlyzP"
      },
      "source": [
        "from sagemaker.local import LocalSession\n",
        "\n",
        "sagemaker_session = LocalSession(boto3.session.Session())\n",
        "sagemaker_session.config = {'local':{'local_code':True}}\n",
        "\n",
        "# Get a SageMaker-compatible role used by this Notebook Instance.\n",
        "role =  \"arn:aws:iam::565342550273:role/service-role/AmazonSageMaker-ExecutionRole-20210524T170167 \"\n",
        "      "
      ],
      "execution_count": null,
      "outputs": []
    },
    {
      "cell_type": "code",
      "metadata": {
        "id": "lPVR0ns_lyzQ"
      },
      "source": [
        "# S3 prefix\n",
        "bucket = \"housing-1717\"\n",
        "prefix = 'scikit-pre-model-Inference-pipeline'\n",
        "\n",
        "train_data = \"s3://housing-1717/housing/input-datasets/train_data_without_header.csv\"\n",
        "test_data = \"s3://housing-1717/housing/input-datasets/test_data_without_header.csv\"\n",
        "\n",
        "FRAMEWORK_VERSION = \"0.23-1\"\n",
        "script_path = 'sklearn_pipeline.py'\n",
        "dependency_path ='dependancies.py'\n",
        "\n",
        "base_job_name = f\"Builtin-XGB-algo-local-{current_time}\"\n",
        "\n",
        "output_data_prefix = f'housing/datasets/output/{base_job_name}'\n",
        "data_output_path = f's3://{bucket}/{output_data_prefix}'\n",
        "\n",
        "debug_prefix = f'housing/jobs/debug/{base_job_name}'\n",
        "debug_path = f's3://{bucket}/{debug_prefix}'\n",
        "\n",
        "experiment_name_prefix = \"builtin-xgboost-track13\""
      ],
      "execution_count": null,
      "outputs": []
    },
    {
      "cell_type": "markdown",
      "metadata": {
        "id": "qkyvjF99lyzR"
      },
      "source": [
        "# 3. Batch Transform \n",
        "<b><h2> 3.1 Fit the train data </h2></b>"
      ]
    },
    {
      "cell_type": "code",
      "metadata": {
        "id": "4v4ghE9IlyzR",
        "outputId": "0b6c4c65-1531-4bac-fb1e-b5020b2c71d7"
      },
      "source": [
        "sklearn_preprocessor = SKLearn(\n",
        "    entry_point=script_path,\n",
        "    role=role,\n",
        "    framework_version=FRAMEWORK_VERSION,\n",
        "    instance_type=\"local\",\n",
        "    #train_use_spot_instance = True,\n",
        "    train_max_run = 600,\n",
        "    train_max_wait = 1200,\n",
        "    #sagemaker_session=sagemaker_session,\n",
        "    dependencies=[dependency_path])"
      ],
      "execution_count": null,
      "outputs": [
        {
          "output_type": "stream",
          "text": [
            "WARNING:sagemaker.deprecations:train_max_run has been renamed in sagemaker>=2.\n",
            "See: https://sagemaker.readthedocs.io/en/stable/v2.html for details.\n",
            "WARNING:sagemaker.deprecations:train_max_wait has been renamed in sagemaker>=2.\n",
            "See: https://sagemaker.readthedocs.io/en/stable/v2.html for details.\n",
            "INFO:sagemaker.image_uris:Same images used for training and inference. Defaulting to image scope: inference.\n"
          ],
          "name": "stderr"
        }
      ]
    },
    {
      "cell_type": "code",
      "metadata": {
        "id": "5r30u4FAlyzS",
        "outputId": "2f6e7af7-3019-44ff-8286-8927be631d8e"
      },
      "source": [
        "sklearn_preprocessor.fit(\n",
        "    inputs={'train': train_data},\n",
        "    job_name=base_job_name)"
      ],
      "execution_count": null,
      "outputs": [
        {
          "output_type": "stream",
          "text": [
            "INFO:sagemaker.image_uris:Defaulting to the only supported framework/algorithm version: latest.\n",
            "INFO:sagemaker.image_uris:Ignoring unnecessary instance type: None.\n",
            "INFO:sagemaker:Creating training-job with name: Builtin-XGB-algo-local-2021-05-19--08-27-51\n",
            "INFO:sagemaker.local.local_session:Starting training job\n",
            "INFO:sagemaker.local.image:No AWS credentials found in session but credentials from EC2 Metadata Service are available.\n",
            "INFO:sagemaker.local.image:docker compose file: \n",
            "networks:\n",
            "  sagemaker-local:\n",
            "    name: sagemaker-local\n",
            "services:\n",
            "  algo-1-r1jly:\n",
            "    command: train\n",
            "    container_name: xb4hfjqccv-algo-1-r1jly\n",
            "    environment:\n",
            "    - '[Masked]'\n",
            "    - '[Masked]'\n",
            "    image: 257758044811.dkr.ecr.us-east-2.amazonaws.com/sagemaker-scikit-learn:0.23-1-cpu-py3\n",
            "    networks:\n",
            "      sagemaker-local:\n",
            "        aliases:\n",
            "        - algo-1-r1jly\n",
            "    stdin_open: true\n",
            "    tty: true\n",
            "    volumes:\n",
            "    - /tmp/tmpdpsz6evo/algo-1-r1jly/output/data:/opt/ml/output/data\n",
            "    - /tmp/tmpdpsz6evo/algo-1-r1jly/output:/opt/ml/output\n",
            "    - /tmp/tmpdpsz6evo/algo-1-r1jly/input:/opt/ml/input\n",
            "    - /tmp/tmpdpsz6evo/model:/opt/ml/model\n",
            "    - /opt/ml/metadata:/opt/ml/metadata\n",
            "    - /tmp/tmpjb59vxt4:/opt/ml/input/data/train\n",
            "version: '2.3'\n",
            "\n",
            "INFO:sagemaker.local.image:docker command: docker-compose -f /tmp/tmpdpsz6evo/docker-compose.yaml up --build --abort-on-container-exit\n"
          ],
          "name": "stderr"
        },
        {
          "output_type": "stream",
          "text": [
            "Creating xb4hfjqccv-algo-1-r1jly ... \n",
            "Creating xb4hfjqccv-algo-1-r1jly ... done\n",
            "Attaching to xb4hfjqccv-algo-1-r1jly\n",
            "\u001b[36mxb4hfjqccv-algo-1-r1jly |\u001b[0m 2021-05-19 08:31:47,182 sagemaker-containers INFO     Imported framework sagemaker_sklearn_container.training\n",
            "\u001b[36mxb4hfjqccv-algo-1-r1jly |\u001b[0m 2021-05-19 08:31:47,186 sagemaker-training-toolkit INFO     No GPUs detected (normal if no gpus installed)\n",
            "\u001b[36mxb4hfjqccv-algo-1-r1jly |\u001b[0m 2021-05-19 08:31:47,198 sagemaker_sklearn_container.training INFO     Invoking user training script.\n",
            "\u001b[36mxb4hfjqccv-algo-1-r1jly |\u001b[0m 2021-05-19 08:31:47,383 sagemaker-training-toolkit INFO     No GPUs detected (normal if no gpus installed)\n",
            "\u001b[36mxb4hfjqccv-algo-1-r1jly |\u001b[0m 2021-05-19 08:31:47,403 sagemaker-training-toolkit INFO     No GPUs detected (normal if no gpus installed)\n",
            "\u001b[36mxb4hfjqccv-algo-1-r1jly |\u001b[0m 2021-05-19 08:31:47,418 sagemaker-training-toolkit INFO     No GPUs detected (normal if no gpus installed)\n",
            "\u001b[36mxb4hfjqccv-algo-1-r1jly |\u001b[0m 2021-05-19 08:31:47,431 sagemaker-training-toolkit INFO     Invoking user script\n",
            "\u001b[36mxb4hfjqccv-algo-1-r1jly |\u001b[0m \n",
            "\u001b[36mxb4hfjqccv-algo-1-r1jly |\u001b[0m Training Env:\n",
            "\u001b[36mxb4hfjqccv-algo-1-r1jly |\u001b[0m \n",
            "\u001b[36mxb4hfjqccv-algo-1-r1jly |\u001b[0m {\n",
            "\u001b[36mxb4hfjqccv-algo-1-r1jly |\u001b[0m     \"additional_framework_parameters\": {},\n",
            "\u001b[36mxb4hfjqccv-algo-1-r1jly |\u001b[0m     \"channel_input_dirs\": {\n",
            "\u001b[36mxb4hfjqccv-algo-1-r1jly |\u001b[0m         \"train\": \"/opt/ml/input/data/train\"\n",
            "\u001b[36mxb4hfjqccv-algo-1-r1jly |\u001b[0m     },\n",
            "\u001b[36mxb4hfjqccv-algo-1-r1jly |\u001b[0m     \"current_host\": \"algo-1-r1jly\",\n",
            "\u001b[36mxb4hfjqccv-algo-1-r1jly |\u001b[0m     \"framework_module\": \"sagemaker_sklearn_container.training:main\",\n",
            "\u001b[36mxb4hfjqccv-algo-1-r1jly |\u001b[0m     \"hosts\": [\n",
            "\u001b[36mxb4hfjqccv-algo-1-r1jly |\u001b[0m         \"algo-1-r1jly\"\n",
            "\u001b[36mxb4hfjqccv-algo-1-r1jly |\u001b[0m     ],\n",
            "\u001b[36mxb4hfjqccv-algo-1-r1jly |\u001b[0m     \"hyperparameters\": {},\n",
            "\u001b[36mxb4hfjqccv-algo-1-r1jly |\u001b[0m     \"input_config_dir\": \"/opt/ml/input/config\",\n",
            "\u001b[36mxb4hfjqccv-algo-1-r1jly |\u001b[0m     \"input_data_config\": {\n",
            "\u001b[36mxb4hfjqccv-algo-1-r1jly |\u001b[0m         \"train\": {\n",
            "\u001b[36mxb4hfjqccv-algo-1-r1jly |\u001b[0m             \"TrainingInputMode\": \"File\"\n",
            "\u001b[36mxb4hfjqccv-algo-1-r1jly |\u001b[0m         }\n",
            "\u001b[36mxb4hfjqccv-algo-1-r1jly |\u001b[0m     },\n",
            "\u001b[36mxb4hfjqccv-algo-1-r1jly |\u001b[0m     \"input_dir\": \"/opt/ml/input\",\n",
            "\u001b[36mxb4hfjqccv-algo-1-r1jly |\u001b[0m     \"is_master\": true,\n",
            "\u001b[36mxb4hfjqccv-algo-1-r1jly |\u001b[0m     \"job_name\": \"Builtin-XGB-algo-local-2021-05-19--08-27-51\",\n",
            "\u001b[36mxb4hfjqccv-algo-1-r1jly |\u001b[0m     \"log_level\": 20,\n",
            "\u001b[36mxb4hfjqccv-algo-1-r1jly |\u001b[0m     \"master_hostname\": \"algo-1-r1jly\",\n",
            "\u001b[36mxb4hfjqccv-algo-1-r1jly |\u001b[0m     \"model_dir\": \"/opt/ml/model\",\n",
            "\u001b[36mxb4hfjqccv-algo-1-r1jly |\u001b[0m     \"module_dir\": \"s3://sagemaker-us-east-2-033898744508/Builtin-XGB-algo-local-2021-05-19--08-27-51/source/sourcedir.tar.gz\",\n",
            "\u001b[36mxb4hfjqccv-algo-1-r1jly |\u001b[0m     \"module_name\": \"sklearn_pipeline\",\n",
            "\u001b[36mxb4hfjqccv-algo-1-r1jly |\u001b[0m     \"network_interface_name\": \"eth0\",\n",
            "\u001b[36mxb4hfjqccv-algo-1-r1jly |\u001b[0m     \"num_cpus\": 2,\n",
            "\u001b[36mxb4hfjqccv-algo-1-r1jly |\u001b[0m     \"num_gpus\": 0,\n",
            "\u001b[36mxb4hfjqccv-algo-1-r1jly |\u001b[0m     \"output_data_dir\": \"/opt/ml/output/data\",\n",
            "\u001b[36mxb4hfjqccv-algo-1-r1jly |\u001b[0m     \"output_dir\": \"/opt/ml/output\",\n",
            "\u001b[36mxb4hfjqccv-algo-1-r1jly |\u001b[0m     \"output_intermediate_dir\": \"/opt/ml/output/intermediate\",\n",
            "\u001b[36mxb4hfjqccv-algo-1-r1jly |\u001b[0m     \"resource_config\": {\n",
            "\u001b[36mxb4hfjqccv-algo-1-r1jly |\u001b[0m         \"current_host\": \"algo-1-r1jly\",\n",
            "\u001b[36mxb4hfjqccv-algo-1-r1jly |\u001b[0m         \"hosts\": [\n",
            "\u001b[36mxb4hfjqccv-algo-1-r1jly |\u001b[0m             \"algo-1-r1jly\"\n",
            "\u001b[36mxb4hfjqccv-algo-1-r1jly |\u001b[0m         ]\n",
            "\u001b[36mxb4hfjqccv-algo-1-r1jly |\u001b[0m     },\n",
            "\u001b[36mxb4hfjqccv-algo-1-r1jly |\u001b[0m     \"user_entry_point\": \"sklearn_pipeline.py\"\n",
            "\u001b[36mxb4hfjqccv-algo-1-r1jly |\u001b[0m }\n",
            "\u001b[36mxb4hfjqccv-algo-1-r1jly |\u001b[0m \n",
            "\u001b[36mxb4hfjqccv-algo-1-r1jly |\u001b[0m Environment variables:\n",
            "\u001b[36mxb4hfjqccv-algo-1-r1jly |\u001b[0m \n",
            "\u001b[36mxb4hfjqccv-algo-1-r1jly |\u001b[0m SM_HOSTS=[\"algo-1-r1jly\"]\n",
            "\u001b[36mxb4hfjqccv-algo-1-r1jly |\u001b[0m SM_NETWORK_INTERFACE_NAME=eth0\n",
            "\u001b[36mxb4hfjqccv-algo-1-r1jly |\u001b[0m SM_HPS={}\n",
            "\u001b[36mxb4hfjqccv-algo-1-r1jly |\u001b[0m SM_USER_ENTRY_POINT=sklearn_pipeline.py\n",
            "\u001b[36mxb4hfjqccv-algo-1-r1jly |\u001b[0m SM_FRAMEWORK_PARAMS={}\n",
            "\u001b[36mxb4hfjqccv-algo-1-r1jly |\u001b[0m SM_RESOURCE_CONFIG={\"current_host\":\"algo-1-r1jly\",\"hosts\":[\"algo-1-r1jly\"]}\n",
            "\u001b[36mxb4hfjqccv-algo-1-r1jly |\u001b[0m SM_INPUT_DATA_CONFIG={\"train\":{\"TrainingInputMode\":\"File\"}}\n",
            "\u001b[36mxb4hfjqccv-algo-1-r1jly |\u001b[0m SM_OUTPUT_DATA_DIR=/opt/ml/output/data\n",
            "\u001b[36mxb4hfjqccv-algo-1-r1jly |\u001b[0m SM_CHANNELS=[\"train\"]\n",
            "\u001b[36mxb4hfjqccv-algo-1-r1jly |\u001b[0m SM_CURRENT_HOST=algo-1-r1jly\n",
            "\u001b[36mxb4hfjqccv-algo-1-r1jly |\u001b[0m SM_MODULE_NAME=sklearn_pipeline\n",
            "\u001b[36mxb4hfjqccv-algo-1-r1jly |\u001b[0m SM_LOG_LEVEL=20\n",
            "\u001b[36mxb4hfjqccv-algo-1-r1jly |\u001b[0m SM_FRAMEWORK_MODULE=sagemaker_sklearn_container.training:main\n",
            "\u001b[36mxb4hfjqccv-algo-1-r1jly |\u001b[0m SM_INPUT_DIR=/opt/ml/input\n",
            "\u001b[36mxb4hfjqccv-algo-1-r1jly |\u001b[0m SM_INPUT_CONFIG_DIR=/opt/ml/input/config\n",
            "\u001b[36mxb4hfjqccv-algo-1-r1jly |\u001b[0m SM_OUTPUT_DIR=/opt/ml/output\n",
            "\u001b[36mxb4hfjqccv-algo-1-r1jly |\u001b[0m SM_NUM_CPUS=2\n",
            "\u001b[36mxb4hfjqccv-algo-1-r1jly |\u001b[0m SM_NUM_GPUS=0\n",
            "\u001b[36mxb4hfjqccv-algo-1-r1jly |\u001b[0m SM_MODEL_DIR=/opt/ml/model\n",
            "\u001b[36mxb4hfjqccv-algo-1-r1jly |\u001b[0m SM_MODULE_DIR=s3://sagemaker-us-east-2-033898744508/Builtin-XGB-algo-local-2021-05-19--08-27-51/source/sourcedir.tar.gz\n",
            "\u001b[36mxb4hfjqccv-algo-1-r1jly |\u001b[0m SM_TRAINING_ENV={\"additional_framework_parameters\":{},\"channel_input_dirs\":{\"train\":\"/opt/ml/input/data/train\"},\"current_host\":\"algo-1-r1jly\",\"framework_module\":\"sagemaker_sklearn_container.training:main\",\"hosts\":[\"algo-1-r1jly\"],\"hyperparameters\":{},\"input_config_dir\":\"/opt/ml/input/config\",\"input_data_config\":{\"train\":{\"TrainingInputMode\":\"File\"}},\"input_dir\":\"/opt/ml/input\",\"is_master\":true,\"job_name\":\"Builtin-XGB-algo-local-2021-05-19--08-27-51\",\"log_level\":20,\"master_hostname\":\"algo-1-r1jly\",\"model_dir\":\"/opt/ml/model\",\"module_dir\":\"s3://sagemaker-us-east-2-033898744508/Builtin-XGB-algo-local-2021-05-19--08-27-51/source/sourcedir.tar.gz\",\"module_name\":\"sklearn_pipeline\",\"network_interface_name\":\"eth0\",\"num_cpus\":2,\"num_gpus\":0,\"output_data_dir\":\"/opt/ml/output/data\",\"output_dir\":\"/opt/ml/output\",\"output_intermediate_dir\":\"/opt/ml/output/intermediate\",\"resource_config\":{\"current_host\":\"algo-1-r1jly\",\"hosts\":[\"algo-1-r1jly\"]},\"user_entry_point\":\"sklearn_pipeline.py\"}\n",
            "\u001b[36mxb4hfjqccv-algo-1-r1jly |\u001b[0m SM_USER_ARGS=[]\n",
            "\u001b[36mxb4hfjqccv-algo-1-r1jly |\u001b[0m SM_OUTPUT_INTERMEDIATE_DIR=/opt/ml/output/intermediate\n",
            "\u001b[36mxb4hfjqccv-algo-1-r1jly |\u001b[0m SM_CHANNEL_TRAIN=/opt/ml/input/data/train\n",
            "\u001b[36mxb4hfjqccv-algo-1-r1jly |\u001b[0m PYTHONPATH=/opt/ml/code:/miniconda3/bin:/miniconda3/lib/python37.zip:/miniconda3/lib/python3.7:/miniconda3/lib/python3.7/lib-dynload:/miniconda3/lib/python3.7/site-packages\n",
            "\u001b[36mxb4hfjqccv-algo-1-r1jly |\u001b[0m \n",
            "\u001b[36mxb4hfjqccv-algo-1-r1jly |\u001b[0m Invoking script with the following command:\n",
            "\u001b[36mxb4hfjqccv-algo-1-r1jly |\u001b[0m \n",
            "\u001b[36mxb4hfjqccv-algo-1-r1jly |\u001b[0m /miniconda3/bin/python sklearn_pipeline.py\n",
            "\u001b[36mxb4hfjqccv-algo-1-r1jly |\u001b[0m \n",
            "\u001b[36mxb4hfjqccv-algo-1-r1jly |\u001b[0m \n",
            "\u001b[36mxb4hfjqccv-algo-1-r1jly |\u001b[0m saved model!\n",
            "\u001b[36mxb4hfjqccv-algo-1-r1jly |\u001b[0m 2021-05-19 08:31:48,765 sagemaker-containers INFO     Reporting training SUCCESS\n",
            "\u001b[36mxb4hfjqccv-algo-1-r1jly exited with code 0\n",
            "\u001b[0mAborting on container exit...\n",
            "===== Job Complete =====\n"
          ],
          "name": "stdout"
        }
      ]
    },
    {
      "cell_type": "markdown",
      "metadata": {
        "id": "AlnAgbtYlyzT"
      },
      "source": [
        "<b><h2>3.2 Transform the train data</h2></b>"
      ]
    },
    {
      "cell_type": "code",
      "metadata": {
        "id": "KV4u767ElyzT",
        "outputId": "55ce87bf-ddca-4ddd-cacf-58a2d3875db5"
      },
      "source": [
        "# Define a SKLearn Transformer from the trained SKLearn Estimator\n",
        "transformer = sklearn_preprocessor.transformer(\n",
        "    instance_count=1, \n",
        "    instance_type='local',\n",
        "    assemble_with = 'Line',\n",
        "    accept = 'text/csv',\n",
        "    output_path = data_output_path\n",
        ")"
      ],
      "execution_count": null,
      "outputs": [
        {
          "output_type": "stream",
          "text": [
            "INFO:sagemaker:Creating model with name: sagemaker-scikit-learn-2021-05-19-08-31-54-643\n"
          ],
          "name": "stderr"
        }
      ]
    },
    {
      "cell_type": "code",
      "metadata": {
        "id": "s3OCXbZBlyzU",
        "outputId": "3b414ecb-8662-47f8-e2ba-aaf2feba96c8"
      },
      "source": [
        "transformer.transform(\n",
        "    data=train_data,\n",
        "    content_type=\"text/csv\",\n",
        "    job_name=base_job_name+\"-train\"\n",
        ")\n",
        "print(\"Waiting for transform job: \" + transformer.latest_transform_job.job_name)\n",
        "transformer.wait()\n",
        "\n",
        "preprocessed_train = transformer.output_path"
      ],
      "execution_count": null,
      "outputs": [
        {
          "output_type": "stream",
          "text": [
            "INFO:sagemaker:Creating transform job with name: Builtin-XGB-algo-local-2021-05-19--08-27-51-train\n",
            "INFO:sagemaker.local.image:serving\n",
            "INFO:sagemaker.local.image:creating hosting dir in /tmp/tmpr51ufue8\n",
            "INFO:sagemaker.local.image:No AWS credentials found in session but credentials from EC2 Metadata Service are available.\n",
            "INFO:sagemaker.local.image:docker compose file: \n",
            "networks:\n",
            "  sagemaker-local:\n",
            "    name: sagemaker-local\n",
            "services:\n",
            "  algo-1-150re:\n",
            "    command: serve\n",
            "    container_name: vo48o0rjz9-algo-1-150re\n",
            "    environment:\n",
            "    - '[Masked]'\n",
            "    - '[Masked]'\n",
            "    - '[Masked]'\n",
            "    - '[Masked]'\n",
            "    - '[Masked]'\n",
            "    - '[Masked]'\n",
            "    image: 257758044811.dkr.ecr.us-east-2.amazonaws.com/sagemaker-scikit-learn:0.23-1-cpu-py3\n",
            "    networks:\n",
            "      sagemaker-local:\n",
            "        aliases:\n",
            "        - algo-1-150re\n",
            "    ports:\n",
            "    - 8080:8080\n",
            "    stdin_open: true\n",
            "    tty: true\n",
            "    volumes:\n",
            "    - /tmp/tmphsrpiyw_:/opt/ml/model\n",
            "version: '2.3'\n",
            "\n",
            "INFO:sagemaker.local.image:docker command: docker-compose -f /tmp/tmpr51ufue8/docker-compose.yaml up --build --abort-on-container-exit\n",
            "INFO:sagemaker.local.entities:Checking if serving container is up, attempt: 5\n",
            "WARNING:urllib3.connectionpool:Retrying (Retry(total=2, connect=None, read=None, redirect=None, status=None)) after connection broken by 'NewConnectionError('<urllib3.connection.HTTPConnection object at 0x7f0512877160>: Failed to establish a new connection: [Errno 111] Connection refused',)': /ping\n",
            "WARNING:urllib3.connectionpool:Retrying (Retry(total=1, connect=None, read=None, redirect=None, status=None)) after connection broken by 'NewConnectionError('<urllib3.connection.HTTPConnection object at 0x7f0512877b00>: Failed to establish a new connection: [Errno 111] Connection refused',)': /ping\n",
            "WARNING:urllib3.connectionpool:Retrying (Retry(total=0, connect=None, read=None, redirect=None, status=None)) after connection broken by 'NewConnectionError('<urllib3.connection.HTTPConnection object at 0x7f051201c828>: Failed to establish a new connection: [Errno 111] Connection refused',)': /ping\n",
            "INFO:sagemaker.local.entities:Container still not up, got: -1\n"
          ],
          "name": "stderr"
        },
        {
          "output_type": "stream",
          "text": [
            "Attaching to vo48o0rjz9-algo-1-150re\n",
            "\u001b[36mvo48o0rjz9-algo-1-150re |\u001b[0m 2021-05-19 08:32:00,924 INFO - sagemaker-containers - No GPUs detected (normal if no gpus installed)\n",
            "\u001b[36mvo48o0rjz9-algo-1-150re |\u001b[0m 2021-05-19 08:32:00,927 INFO - sagemaker-containers - No GPUs detected (normal if no gpus installed)\n",
            "\u001b[36mvo48o0rjz9-algo-1-150re |\u001b[0m 2021-05-19 08:32:00,928 INFO - sagemaker-containers - nginx config: \n",
            "\u001b[36mvo48o0rjz9-algo-1-150re |\u001b[0m worker_processes auto;\n",
            "\u001b[36mvo48o0rjz9-algo-1-150re |\u001b[0m daemon off;\n",
            "\u001b[36mvo48o0rjz9-algo-1-150re |\u001b[0m pid /tmp/nginx.pid;\n",
            "\u001b[36mvo48o0rjz9-algo-1-150re |\u001b[0m error_log  /dev/stderr;\n",
            "\u001b[36mvo48o0rjz9-algo-1-150re |\u001b[0m \n",
            "\u001b[36mvo48o0rjz9-algo-1-150re |\u001b[0m worker_rlimit_nofile 4096;\n",
            "\u001b[36mvo48o0rjz9-algo-1-150re |\u001b[0m \n",
            "\u001b[36mvo48o0rjz9-algo-1-150re |\u001b[0m events {\n",
            "\u001b[36mvo48o0rjz9-algo-1-150re |\u001b[0m   worker_connections 2048;\n",
            "\u001b[36mvo48o0rjz9-algo-1-150re |\u001b[0m }\n",
            "\u001b[36mvo48o0rjz9-algo-1-150re |\u001b[0m \n",
            "\u001b[36mvo48o0rjz9-algo-1-150re |\u001b[0m http {\n",
            "\u001b[36mvo48o0rjz9-algo-1-150re |\u001b[0m   include /etc/nginx/mime.types;\n",
            "\u001b[36mvo48o0rjz9-algo-1-150re |\u001b[0m   default_type application/octet-stream;\n",
            "\u001b[36mvo48o0rjz9-algo-1-150re |\u001b[0m   access_log /dev/stdout combined;\n",
            "\u001b[36mvo48o0rjz9-algo-1-150re |\u001b[0m \n",
            "\u001b[36mvo48o0rjz9-algo-1-150re |\u001b[0m   upstream gunicorn {\n",
            "\u001b[36mvo48o0rjz9-algo-1-150re |\u001b[0m     server unix:/tmp/gunicorn.sock;\n",
            "\u001b[36mvo48o0rjz9-algo-1-150re |\u001b[0m   }\n",
            "\u001b[36mvo48o0rjz9-algo-1-150re |\u001b[0m \n",
            "\u001b[36mvo48o0rjz9-algo-1-150re |\u001b[0m   server {\n",
            "\u001b[36mvo48o0rjz9-algo-1-150re |\u001b[0m     listen 8080 deferred;\n",
            "\u001b[36mvo48o0rjz9-algo-1-150re |\u001b[0m     client_max_body_size 0;\n",
            "\u001b[36mvo48o0rjz9-algo-1-150re |\u001b[0m \n",
            "\u001b[36mvo48o0rjz9-algo-1-150re |\u001b[0m     keepalive_timeout 3;\n",
            "\u001b[36mvo48o0rjz9-algo-1-150re |\u001b[0m \n",
            "\u001b[36mvo48o0rjz9-algo-1-150re |\u001b[0m     location ~ ^/(ping|invocations|execution-parameters) {\n",
            "\u001b[36mvo48o0rjz9-algo-1-150re |\u001b[0m       proxy_set_header X-Forwarded-For $proxy_add_x_forwarded_for;\n",
            "\u001b[36mvo48o0rjz9-algo-1-150re |\u001b[0m       proxy_set_header Host $http_host;\n",
            "\u001b[36mvo48o0rjz9-algo-1-150re |\u001b[0m       proxy_redirect off;\n",
            "\u001b[36mvo48o0rjz9-algo-1-150re |\u001b[0m       proxy_read_timeout 60s;\n",
            "\u001b[36mvo48o0rjz9-algo-1-150re |\u001b[0m       proxy_pass http://gunicorn;\n",
            "\u001b[36mvo48o0rjz9-algo-1-150re |\u001b[0m     }\n",
            "\u001b[36mvo48o0rjz9-algo-1-150re |\u001b[0m \n",
            "\u001b[36mvo48o0rjz9-algo-1-150re |\u001b[0m     location / {\n",
            "\u001b[36mvo48o0rjz9-algo-1-150re |\u001b[0m       return 404 \"{}\";\n",
            "\u001b[36mvo48o0rjz9-algo-1-150re |\u001b[0m     }\n",
            "\u001b[36mvo48o0rjz9-algo-1-150re |\u001b[0m \n",
            "\u001b[36mvo48o0rjz9-algo-1-150re |\u001b[0m   }\n",
            "\u001b[36mvo48o0rjz9-algo-1-150re |\u001b[0m }\n",
            "\u001b[36mvo48o0rjz9-algo-1-150re |\u001b[0m \n",
            "\u001b[36mvo48o0rjz9-algo-1-150re |\u001b[0m \n",
            "\u001b[36mvo48o0rjz9-algo-1-150re |\u001b[0m 2021-05-19 08:32:01,085 INFO - sagemaker-containers - Module sklearn_pipeline does not provide a setup.py. \n",
            "\u001b[36mvo48o0rjz9-algo-1-150re |\u001b[0m Generating setup.py\n",
            "\u001b[36mvo48o0rjz9-algo-1-150re |\u001b[0m 2021-05-19 08:32:01,085 INFO - sagemaker-containers - Generating setup.cfg\n",
            "\u001b[36mvo48o0rjz9-algo-1-150re |\u001b[0m 2021-05-19 08:32:01,085 INFO - sagemaker-containers - Generating MANIFEST.in\n",
            "\u001b[36mvo48o0rjz9-algo-1-150re |\u001b[0m 2021-05-19 08:32:01,086 INFO - sagemaker-containers - Installing module with the following command:\n",
            "\u001b[36mvo48o0rjz9-algo-1-150re |\u001b[0m /miniconda3/bin/python -m pip install . \n",
            "\u001b[36mvo48o0rjz9-algo-1-150re |\u001b[0m Processing /opt/ml/code\n",
            "\u001b[36mvo48o0rjz9-algo-1-150re |\u001b[0m Building wheels for collected packages: sklearn-pipeline\n",
            "\u001b[36mvo48o0rjz9-algo-1-150re |\u001b[0m   Building wheel for sklearn-pipeline (setup.py) ... \u001b[?25ldone\n",
            "\u001b[36mvo48o0rjz9-algo-1-150re |\u001b[0m \u001b[?25h  Created wheel for sklearn-pipeline: filename=sklearn_pipeline-1.0.0-py2.py3-none-any.whl size=8478 sha256=192cd9f38a50de113b1a4cf6f3b402f0ce93998b6e6ec9bd6d09e4b5866abd49\n",
            "\u001b[36mvo48o0rjz9-algo-1-150re |\u001b[0m   Stored in directory: /home/model-server/tmp/pip-ephem-wheel-cache-48zqful0/wheels/3e/0f/51/2f1df833dd0412c1bc2f5ee56baac195b5be563353d111dca6\n",
            "\u001b[36mvo48o0rjz9-algo-1-150re |\u001b[0m Successfully built sklearn-pipeline\n",
            "\u001b[36mvo48o0rjz9-algo-1-150re |\u001b[0m Installing collected packages: sklearn-pipeline\n",
            "\u001b[36mvo48o0rjz9-algo-1-150re |\u001b[0m Successfully installed sklearn-pipeline-1.0.0\n"
          ],
          "name": "stdout"
        },
        {
          "output_type": "stream",
          "text": [
            "INFO:sagemaker.local.entities:Checking if serving container is up, attempt: 10\n",
            "INFO:sagemaker.local.entities:Container still not up, got: 502\n"
          ],
          "name": "stderr"
        },
        {
          "output_type": "stream",
          "text": [
            "\u001b[36mvo48o0rjz9-algo-1-150re |\u001b[0m 2021/05/19 08:32:03 [crit] 14#14: *1 connect() to unix:/tmp/gunicorn.sock failed (2: No such file or directory) while connecting to upstream, client: 172.18.0.1, server: , request: \"GET /ping HTTP/1.1\", upstream: \"http://unix:/tmp/gunicorn.sock:/ping\", host: \"localhost:8080\"\n",
            "\u001b[36mvo48o0rjz9-algo-1-150re |\u001b[0m 172.18.0.1 - - [19/May/2021:08:32:03 +0000] \"GET /ping HTTP/1.1\" 502 182 \"-\" \"python-urllib3/1.26.4\"\n",
            "\u001b[36mvo48o0rjz9-algo-1-150re |\u001b[0m [2021-05-19 08:32:03 +0000] [30] [INFO] Starting gunicorn 20.0.4\n",
            "\u001b[36mvo48o0rjz9-algo-1-150re |\u001b[0m [2021-05-19 08:32:03 +0000] [30] [INFO] Listening at: unix:/tmp/gunicorn.sock (30)\n",
            "\u001b[36mvo48o0rjz9-algo-1-150re |\u001b[0m [2021-05-19 08:32:03 +0000] [30] [INFO] Using worker: gevent\n",
            "\u001b[36mvo48o0rjz9-algo-1-150re |\u001b[0m [2021-05-19 08:32:03 +0000] [33] [INFO] Booting worker with pid: 33\n",
            "\u001b[36mvo48o0rjz9-algo-1-150re |\u001b[0m [2021-05-19 08:32:03 +0000] [34] [INFO] Booting worker with pid: 34\n"
          ],
          "name": "stdout"
        },
        {
          "output_type": "stream",
          "text": [
            "INFO:sagemaker.local.entities:Checking if serving container is up, attempt: 15\n"
          ],
          "name": "stderr"
        },
        {
          "output_type": "stream",
          "text": [
            "\u001b[36mvo48o0rjz9-algo-1-150re |\u001b[0m 2021-05-19 08:32:08,514 INFO - sagemaker-containers - No GPUs detected (normal if no gpus installed)\n",
            "\u001b[36mvo48o0rjz9-algo-1-150re |\u001b[0m 172.18.0.1 - - [19/May/2021:08:32:09 +0000] \"GET /ping HTTP/1.1\" 200 0 \"-\" \"python-urllib3/1.26.4\"\n",
            "\u001b[36mvo48o0rjz9-algo-1-150re |\u001b[0m 172.18.0.1 - - [19/May/2021:08:32:09 +0000] \"GET /execution-parameters HTTP/1.1\" 404 232 \"-\" \"python-urllib3/1.26.4\"\n",
            "\u001b[36mvo48o0rjz9-algo-1-150re |\u001b[0m 2021-05-19 08:32:09,420 INFO - sagemaker-containers - No GPUs detected (normal if no gpus installed)\n",
            "\u001b[36mvo48o0rjz9-algo-1-150re |\u001b[0m /miniconda3/lib/python3.7/site-packages/sklearn/compose/_column_transformer.py:440: FutureWarning: Given feature/column names or counts do not match the ones for the data given during fit. This will fail from v0.24.\n",
            "\u001b[36mvo48o0rjz9-algo-1-150re |\u001b[0m   FutureWarning)\n",
            "\u001b[36mvo48o0rjz9-algo-1-150re |\u001b[0m 172.18.0.1 - - [19/May/2021:08:32:10 +0000] \"POST /invocations HTTP/1.1\" 200 4081216 \"-\" \"python-urllib3/1.26.4\"\n",
            "Gracefully stopping... (press Ctrl+C again to force)\n",
            ".Waiting for transform job: Builtin-XGB-algo-local-2021-05-19--08-27-51-train\n",
            "."
          ],
          "name": "stdout"
        }
      ]
    },
    {
      "cell_type": "markdown",
      "metadata": {
        "id": "lySfV2NulyzV"
      },
      "source": [
        "<b><h2>3.2 Transform the test data</h2></b>"
      ]
    },
    {
      "cell_type": "code",
      "metadata": {
        "id": "o5aaDwqAlyzV",
        "outputId": "15fdce46-2f82-4b3f-b869-4c4d75d75cd2"
      },
      "source": [
        "transformer.transform(\n",
        "    data=test_data,\n",
        "    content_type=\"text/csv\",\n",
        "    job_name=base_job_name+\"-test\"\n",
        ")\n",
        "print(\"Waiting for transform job: \" + transformer.latest_transform_job.job_name)\n",
        "transformer.wait()\n",
        "\n",
        "preprocessed_test = transformer.output_path"
      ],
      "execution_count": null,
      "outputs": [
        {
          "output_type": "stream",
          "text": [
            "INFO:sagemaker:Creating transform job with name: Builtin-XGB-algo-local-2021-05-19--08-27-51-test\n",
            "INFO:sagemaker.local.image:serving\n",
            "INFO:sagemaker.local.image:creating hosting dir in /tmp/tmp20rqvt87\n",
            "INFO:sagemaker.local.image:No AWS credentials found in session but credentials from EC2 Metadata Service are available.\n",
            "INFO:sagemaker.local.image:docker compose file: \n",
            "networks:\n",
            "  sagemaker-local:\n",
            "    name: sagemaker-local\n",
            "services:\n",
            "  algo-1-2s5hk:\n",
            "    command: serve\n",
            "    container_name: 15147y6kxi-algo-1-2s5hk\n",
            "    environment:\n",
            "    - '[Masked]'\n",
            "    - '[Masked]'\n",
            "    - '[Masked]'\n",
            "    - '[Masked]'\n",
            "    - '[Masked]'\n",
            "    - '[Masked]'\n",
            "    image: 257758044811.dkr.ecr.us-east-2.amazonaws.com/sagemaker-scikit-learn:0.23-1-cpu-py3\n",
            "    networks:\n",
            "      sagemaker-local:\n",
            "        aliases:\n",
            "        - algo-1-2s5hk\n",
            "    ports:\n",
            "    - 8080:8080\n",
            "    stdin_open: true\n",
            "    tty: true\n",
            "    volumes:\n",
            "    - /tmp/tmpyy3ufved:/opt/ml/model\n",
            "version: '2.3'\n",
            "\n",
            "INFO:sagemaker.local.image:docker command: docker-compose -f /tmp/tmp20rqvt87/docker-compose.yaml up --build --abort-on-container-exit\n",
            "INFO:sagemaker.local.entities:Checking if serving container is up, attempt: 5\n",
            "WARNING:urllib3.connectionpool:Retrying (Retry(total=2, connect=None, read=None, redirect=None, status=None)) after connection broken by 'NewConnectionError('<urllib3.connection.HTTPConnection object at 0x7f0510b2b080>: Failed to establish a new connection: [Errno 111] Connection refused',)': /ping\n",
            "WARNING:urllib3.connectionpool:Retrying (Retry(total=1, connect=None, read=None, redirect=None, status=None)) after connection broken by 'NewConnectionError('<urllib3.connection.HTTPConnection object at 0x7f0510b2bc50>: Failed to establish a new connection: [Errno 111] Connection refused',)': /ping\n",
            "WARNING:urllib3.connectionpool:Retrying (Retry(total=0, connect=None, read=None, redirect=None, status=None)) after connection broken by 'NewConnectionError('<urllib3.connection.HTTPConnection object at 0x7f0510b2bef0>: Failed to establish a new connection: [Errno 111] Connection refused',)': /ping\n",
            "INFO:sagemaker.local.entities:Container still not up, got: -1\n"
          ],
          "name": "stderr"
        },
        {
          "output_type": "stream",
          "text": [
            "Attaching to 15147y6kxi-algo-1-2s5hk\n",
            "\u001b[36m15147y6kxi-algo-1-2s5hk |\u001b[0m 2021-05-19 08:32:13,914 INFO - sagemaker-containers - No GPUs detected (normal if no gpus installed)\n",
            "\u001b[36m15147y6kxi-algo-1-2s5hk |\u001b[0m 2021-05-19 08:32:13,917 INFO - sagemaker-containers - No GPUs detected (normal if no gpus installed)\n",
            "\u001b[36m15147y6kxi-algo-1-2s5hk |\u001b[0m 2021-05-19 08:32:13,918 INFO - sagemaker-containers - nginx config: \n",
            "\u001b[36m15147y6kxi-algo-1-2s5hk |\u001b[0m worker_processes auto;\n",
            "\u001b[36m15147y6kxi-algo-1-2s5hk |\u001b[0m daemon off;\n",
            "\u001b[36m15147y6kxi-algo-1-2s5hk |\u001b[0m pid /tmp/nginx.pid;\n",
            "\u001b[36m15147y6kxi-algo-1-2s5hk |\u001b[0m error_log  /dev/stderr;\n",
            "\u001b[36m15147y6kxi-algo-1-2s5hk |\u001b[0m \n",
            "\u001b[36m15147y6kxi-algo-1-2s5hk |\u001b[0m worker_rlimit_nofile 4096;\n",
            "\u001b[36m15147y6kxi-algo-1-2s5hk |\u001b[0m \n",
            "\u001b[36m15147y6kxi-algo-1-2s5hk |\u001b[0m events {\n",
            "\u001b[36m15147y6kxi-algo-1-2s5hk |\u001b[0m   worker_connections 2048;\n",
            "\u001b[36m15147y6kxi-algo-1-2s5hk |\u001b[0m }\n",
            "\u001b[36m15147y6kxi-algo-1-2s5hk |\u001b[0m \n",
            "\u001b[36m15147y6kxi-algo-1-2s5hk |\u001b[0m http {\n",
            "\u001b[36m15147y6kxi-algo-1-2s5hk |\u001b[0m   include /etc/nginx/mime.types;\n",
            "\u001b[36m15147y6kxi-algo-1-2s5hk |\u001b[0m   default_type application/octet-stream;\n",
            "\u001b[36m15147y6kxi-algo-1-2s5hk |\u001b[0m   access_log /dev/stdout combined;\n",
            "\u001b[36m15147y6kxi-algo-1-2s5hk |\u001b[0m \n",
            "\u001b[36m15147y6kxi-algo-1-2s5hk |\u001b[0m   upstream gunicorn {\n",
            "\u001b[36m15147y6kxi-algo-1-2s5hk |\u001b[0m     server unix:/tmp/gunicorn.sock;\n",
            "\u001b[36m15147y6kxi-algo-1-2s5hk |\u001b[0m   }\n",
            "\u001b[36m15147y6kxi-algo-1-2s5hk |\u001b[0m \n",
            "\u001b[36m15147y6kxi-algo-1-2s5hk |\u001b[0m   server {\n",
            "\u001b[36m15147y6kxi-algo-1-2s5hk |\u001b[0m     listen 8080 deferred;\n",
            "\u001b[36m15147y6kxi-algo-1-2s5hk |\u001b[0m     client_max_body_size 0;\n",
            "\u001b[36m15147y6kxi-algo-1-2s5hk |\u001b[0m \n",
            "\u001b[36m15147y6kxi-algo-1-2s5hk |\u001b[0m     keepalive_timeout 3;\n",
            "\u001b[36m15147y6kxi-algo-1-2s5hk |\u001b[0m \n",
            "\u001b[36m15147y6kxi-algo-1-2s5hk |\u001b[0m     location ~ ^/(ping|invocations|execution-parameters) {\n",
            "\u001b[36m15147y6kxi-algo-1-2s5hk |\u001b[0m       proxy_set_header X-Forwarded-For $proxy_add_x_forwarded_for;\n",
            "\u001b[36m15147y6kxi-algo-1-2s5hk |\u001b[0m       proxy_set_header Host $http_host;\n",
            "\u001b[36m15147y6kxi-algo-1-2s5hk |\u001b[0m       proxy_redirect off;\n",
            "\u001b[36m15147y6kxi-algo-1-2s5hk |\u001b[0m       proxy_read_timeout 60s;\n",
            "\u001b[36m15147y6kxi-algo-1-2s5hk |\u001b[0m       proxy_pass http://gunicorn;\n",
            "\u001b[36m15147y6kxi-algo-1-2s5hk |\u001b[0m     }\n",
            "\u001b[36m15147y6kxi-algo-1-2s5hk |\u001b[0m \n",
            "\u001b[36m15147y6kxi-algo-1-2s5hk |\u001b[0m     location / {\n",
            "\u001b[36m15147y6kxi-algo-1-2s5hk |\u001b[0m       return 404 \"{}\";\n",
            "\u001b[36m15147y6kxi-algo-1-2s5hk |\u001b[0m     }\n",
            "\u001b[36m15147y6kxi-algo-1-2s5hk |\u001b[0m \n",
            "\u001b[36m15147y6kxi-algo-1-2s5hk |\u001b[0m   }\n",
            "\u001b[36m15147y6kxi-algo-1-2s5hk |\u001b[0m }\n",
            "\u001b[36m15147y6kxi-algo-1-2s5hk |\u001b[0m \n",
            "\u001b[36m15147y6kxi-algo-1-2s5hk |\u001b[0m \n",
            "\u001b[36m15147y6kxi-algo-1-2s5hk |\u001b[0m 2021-05-19 08:32:14,091 INFO - sagemaker-containers - Module sklearn_pipeline does not provide a setup.py. \n",
            "\u001b[36m15147y6kxi-algo-1-2s5hk |\u001b[0m Generating setup.py\n",
            "\u001b[36m15147y6kxi-algo-1-2s5hk |\u001b[0m 2021-05-19 08:32:14,091 INFO - sagemaker-containers - Generating setup.cfg\n",
            "\u001b[36m15147y6kxi-algo-1-2s5hk |\u001b[0m 2021-05-19 08:32:14,092 INFO - sagemaker-containers - Generating MANIFEST.in\n",
            "\u001b[36m15147y6kxi-algo-1-2s5hk |\u001b[0m 2021-05-19 08:32:14,092 INFO - sagemaker-containers - Installing module with the following command:\n",
            "\u001b[36m15147y6kxi-algo-1-2s5hk |\u001b[0m /miniconda3/bin/python -m pip install . \n",
            "\u001b[36m15147y6kxi-algo-1-2s5hk |\u001b[0m Processing /opt/ml/code\n",
            "\u001b[36m15147y6kxi-algo-1-2s5hk |\u001b[0m Building wheels for collected packages: sklearn-pipeline\n",
            "\u001b[36m15147y6kxi-algo-1-2s5hk |\u001b[0m   Building wheel for sklearn-pipeline (setup.py) ... \u001b[?25ldone\n",
            "\u001b[36m15147y6kxi-algo-1-2s5hk |\u001b[0m \u001b[?25h  Created wheel for sklearn-pipeline: filename=sklearn_pipeline-1.0.0-py2.py3-none-any.whl size=8478 sha256=ba39f1a6fed4c4a3113a53a57a84ccba6fe4c94d4e89d1e6d752bffca6d0640a\n",
            "\u001b[36m15147y6kxi-algo-1-2s5hk |\u001b[0m   Stored in directory: /home/model-server/tmp/pip-ephem-wheel-cache-q8elko23/wheels/3e/0f/51/2f1df833dd0412c1bc2f5ee56baac195b5be563353d111dca6\n",
            "\u001b[36m15147y6kxi-algo-1-2s5hk |\u001b[0m Successfully built sklearn-pipeline\n",
            "\u001b[36m15147y6kxi-algo-1-2s5hk |\u001b[0m Installing collected packages: sklearn-pipeline\n",
            "\u001b[36m15147y6kxi-algo-1-2s5hk |\u001b[0m Successfully installed sklearn-pipeline-1.0.0\n",
            "\u001b[36m15147y6kxi-algo-1-2s5hk |\u001b[0m [2021-05-19 08:32:16 +0000] [33] [INFO] Starting gunicorn 20.0.4\n",
            "\u001b[36m15147y6kxi-algo-1-2s5hk |\u001b[0m [2021-05-19 08:32:16 +0000] [33] [INFO] Listening at: unix:/tmp/gunicorn.sock (33)\n",
            "\u001b[36m15147y6kxi-algo-1-2s5hk |\u001b[0m [2021-05-19 08:32:16 +0000] [33] [INFO] Using worker: gevent\n",
            "\u001b[36m15147y6kxi-algo-1-2s5hk |\u001b[0m [2021-05-19 08:32:16 +0000] [36] [INFO] Booting worker with pid: 36\n",
            "\u001b[36m15147y6kxi-algo-1-2s5hk |\u001b[0m [2021-05-19 08:32:16 +0000] [37] [INFO] Booting worker with pid: 37\n"
          ],
          "name": "stdout"
        },
        {
          "output_type": "stream",
          "text": [
            "INFO:sagemaker.local.entities:Checking if serving container is up, attempt: 10\n"
          ],
          "name": "stderr"
        },
        {
          "output_type": "stream",
          "text": [
            "\u001b[36m15147y6kxi-algo-1-2s5hk |\u001b[0m 2021-05-19 08:32:17,149 INFO - sagemaker-containers - No GPUs detected (normal if no gpus installed)\n",
            "\u001b[36m15147y6kxi-algo-1-2s5hk |\u001b[0m 172.18.0.1 - - [19/May/2021:08:32:17 +0000] \"GET /ping HTTP/1.1\" 200 0 \"-\" \"python-urllib3/1.26.4\"\n",
            "\u001b[36m15147y6kxi-algo-1-2s5hk |\u001b[0m 172.18.0.1 - - [19/May/2021:08:32:17 +0000] \"GET /execution-parameters HTTP/1.1\" 404 232 \"-\" \"python-urllib3/1.26.4\"\n",
            "\u001b[36m15147y6kxi-algo-1-2s5hk |\u001b[0m 2021-05-19 08:32:17,971 INFO - sagemaker-containers - No GPUs detected (normal if no gpus installed)\n",
            "\u001b[36m15147y6kxi-algo-1-2s5hk |\u001b[0m /miniconda3/lib/python3.7/site-packages/sklearn/compose/_column_transformer.py:440: FutureWarning: Given feature/column names or counts do not match the ones for the data given during fit. This will fail from v0.24.\n",
            "\u001b[36m15147y6kxi-algo-1-2s5hk |\u001b[0m   FutureWarning)\n",
            "\u001b[36m15147y6kxi-algo-1-2s5hk |\u001b[0m 172.18.0.1 - - [19/May/2021:08:32:18 +0000] \"POST /invocations HTTP/1.1\" 200 1020419 \"-\" \"python-urllib3/1.26.4\"\n",
            "Gracefully stopping... (press Ctrl+C again to force)\n",
            ".Waiting for transform job: Builtin-XGB-algo-local-2021-05-19--08-27-51-test\n",
            "."
          ],
          "name": "stdout"
        }
      ]
    },
    {
      "cell_type": "markdown",
      "metadata": {
        "id": "c-PTJQnHlyzW"
      },
      "source": [
        "# 4. Real Time Prediction using endpoint"
      ]
    },
    {
      "cell_type": "code",
      "metadata": {
        "id": "y7QkA9galyzX",
        "outputId": "aa1e5277-e5d3-4c73-aa54-f36c3e15a04e"
      },
      "source": [
        "from sagemaker.model import Model\n",
        "from sagemaker.pipeline import PipelineModel\n",
        "import boto3\n",
        "from time import gmtime, strftime\n",
        "\n",
        "\n",
        "timestamp_prefix = strftime(\"%Y-%m-%d-%H-%M-%S\", gmtime())\n",
        "\n",
        "scikit_learn_inference_model = sklearn_preprocessor.create_model()\n",
        "\n",
        "model_name = 'inference-pipeline-' + timestamp_prefix\n",
        "endpoint_name = 'inference-pipeline-ep-' + timestamp_prefix\n",
        "\n",
        "#sm_model.sagemaker_session=None\n",
        "\n",
        "scikit_learn_inference_model.deploy(initial_instance_count=1, instance_type='local', endpoint_name=endpoint_name)\n",
        "\n",
        "from sagemaker.predictor import Predictor\n",
        "from sagemaker.serializers import CSVSerializer\n",
        "from sagemaker.deserializers import JSONDeserializer\n",
        "\n",
        "payload = \"-121.89,37.29,38,1568,351,710,339,2.7042,<1H OCEAN\"\n",
        "\n",
        "predictor = Predictor(\n",
        "        endpoint_name = endpoint_name,\n",
        "        sagemaker_session = sagemaker_session,\n",
        "        serializer = CSVSerializer(),\n",
        "        deserializer = JSONDeserializer(),\n",
        "    )\n",
        "print(predictor.predict(payload))"
      ],
      "execution_count": null,
      "outputs": [
        {
          "output_type": "stream",
          "text": [
            "INFO:sagemaker:Creating model with name: sagemaker-scikit-learn-2021-05-19-08-40-15-331\n",
            "INFO:sagemaker:Creating endpoint with name inference-pipeline-ep-2021-05-19-08-40-15\n",
            "INFO:sagemaker.local.image:serving\n",
            "INFO:sagemaker.local.image:creating hosting dir in /tmp/tmpoavjmzde\n",
            "INFO:sagemaker.local.image:No AWS credentials found in session but credentials from EC2 Metadata Service are available.\n",
            "INFO:sagemaker.local.image:docker compose file: \n",
            "networks:\n",
            "  sagemaker-local:\n",
            "    name: sagemaker-local\n",
            "services:\n",
            "  algo-1-gbqlu:\n",
            "    command: serve\n",
            "    container_name: xbzhrhoe6x-algo-1-gbqlu\n",
            "    environment:\n",
            "    - '[Masked]'\n",
            "    - '[Masked]'\n",
            "    - '[Masked]'\n",
            "    - '[Masked]'\n",
            "    image: 257758044811.dkr.ecr.us-east-2.amazonaws.com/sagemaker-scikit-learn:0.23-1-cpu-py3\n",
            "    networks:\n",
            "      sagemaker-local:\n",
            "        aliases:\n",
            "        - algo-1-gbqlu\n",
            "    ports:\n",
            "    - 8080:8080\n",
            "    stdin_open: true\n",
            "    tty: true\n",
            "    volumes:\n",
            "    - /tmp/tmp3ro5077a:/opt/ml/model\n",
            "version: '2.3'\n",
            "\n",
            "INFO:sagemaker.local.image:docker command: docker-compose -f /tmp/tmpoavjmzde/docker-compose.yaml up --build --abort-on-container-exit\n",
            "INFO:sagemaker.local.entities:Checking if serving container is up, attempt: 5\n",
            "WARNING:urllib3.connectionpool:Retrying (Retry(total=2, connect=None, read=None, redirect=None, status=None)) after connection broken by 'NewConnectionError('<urllib3.connection.HTTPConnection object at 0x7f0510c5ce48>: Failed to establish a new connection: [Errno 111] Connection refused',)': /ping\n",
            "WARNING:urllib3.connectionpool:Retrying (Retry(total=1, connect=None, read=None, redirect=None, status=None)) after connection broken by 'NewConnectionError('<urllib3.connection.HTTPConnection object at 0x7f0510c5ca20>: Failed to establish a new connection: [Errno 111] Connection refused',)': /ping\n",
            "WARNING:urllib3.connectionpool:Retrying (Retry(total=0, connect=None, read=None, redirect=None, status=None)) after connection broken by 'NewConnectionError('<urllib3.connection.HTTPConnection object at 0x7f0510c5cda0>: Failed to establish a new connection: [Errno 111] Connection refused',)': /ping\n",
            "INFO:sagemaker.local.entities:Container still not up, got: -1\n"
          ],
          "name": "stderr"
        },
        {
          "output_type": "stream",
          "text": [
            "Attaching to xbzhrhoe6x-algo-1-gbqlu\n",
            "\u001b[36mxbzhrhoe6x-algo-1-gbqlu |\u001b[0m 2021-05-19 08:40:18,002 INFO - sagemaker-containers - No GPUs detected (normal if no gpus installed)\n",
            "\u001b[36mxbzhrhoe6x-algo-1-gbqlu |\u001b[0m 2021-05-19 08:40:18,007 INFO - sagemaker-containers - No GPUs detected (normal if no gpus installed)\n",
            "\u001b[36mxbzhrhoe6x-algo-1-gbqlu |\u001b[0m 2021-05-19 08:40:18,008 INFO - sagemaker-containers - nginx config: \n",
            "\u001b[36mxbzhrhoe6x-algo-1-gbqlu |\u001b[0m worker_processes auto;\n",
            "\u001b[36mxbzhrhoe6x-algo-1-gbqlu |\u001b[0m daemon off;\n",
            "\u001b[36mxbzhrhoe6x-algo-1-gbqlu |\u001b[0m pid /tmp/nginx.pid;\n",
            "\u001b[36mxbzhrhoe6x-algo-1-gbqlu |\u001b[0m error_log  /dev/stderr;\n",
            "\u001b[36mxbzhrhoe6x-algo-1-gbqlu |\u001b[0m \n",
            "\u001b[36mxbzhrhoe6x-algo-1-gbqlu |\u001b[0m worker_rlimit_nofile 4096;\n",
            "\u001b[36mxbzhrhoe6x-algo-1-gbqlu |\u001b[0m \n",
            "\u001b[36mxbzhrhoe6x-algo-1-gbqlu |\u001b[0m events {\n",
            "\u001b[36mxbzhrhoe6x-algo-1-gbqlu |\u001b[0m   worker_connections 2048;\n",
            "\u001b[36mxbzhrhoe6x-algo-1-gbqlu |\u001b[0m }\n",
            "\u001b[36mxbzhrhoe6x-algo-1-gbqlu |\u001b[0m \n",
            "\u001b[36mxbzhrhoe6x-algo-1-gbqlu |\u001b[0m http {\n",
            "\u001b[36mxbzhrhoe6x-algo-1-gbqlu |\u001b[0m   include /etc/nginx/mime.types;\n",
            "\u001b[36mxbzhrhoe6x-algo-1-gbqlu |\u001b[0m   default_type application/octet-stream;\n",
            "\u001b[36mxbzhrhoe6x-algo-1-gbqlu |\u001b[0m   access_log /dev/stdout combined;\n",
            "\u001b[36mxbzhrhoe6x-algo-1-gbqlu |\u001b[0m \n",
            "\u001b[36mxbzhrhoe6x-algo-1-gbqlu |\u001b[0m   upstream gunicorn {\n",
            "\u001b[36mxbzhrhoe6x-algo-1-gbqlu |\u001b[0m     server unix:/tmp/gunicorn.sock;\n",
            "\u001b[36mxbzhrhoe6x-algo-1-gbqlu |\u001b[0m   }\n",
            "\u001b[36mxbzhrhoe6x-algo-1-gbqlu |\u001b[0m \n",
            "\u001b[36mxbzhrhoe6x-algo-1-gbqlu |\u001b[0m   server {\n",
            "\u001b[36mxbzhrhoe6x-algo-1-gbqlu |\u001b[0m     listen 8080 deferred;\n",
            "\u001b[36mxbzhrhoe6x-algo-1-gbqlu |\u001b[0m     client_max_body_size 0;\n",
            "\u001b[36mxbzhrhoe6x-algo-1-gbqlu |\u001b[0m \n",
            "\u001b[36mxbzhrhoe6x-algo-1-gbqlu |\u001b[0m     keepalive_timeout 3;\n",
            "\u001b[36mxbzhrhoe6x-algo-1-gbqlu |\u001b[0m \n",
            "\u001b[36mxbzhrhoe6x-algo-1-gbqlu |\u001b[0m     location ~ ^/(ping|invocations|execution-parameters) {\n",
            "\u001b[36mxbzhrhoe6x-algo-1-gbqlu |\u001b[0m       proxy_set_header X-Forwarded-For $proxy_add_x_forwarded_for;\n",
            "\u001b[36mxbzhrhoe6x-algo-1-gbqlu |\u001b[0m       proxy_set_header Host $http_host;\n",
            "\u001b[36mxbzhrhoe6x-algo-1-gbqlu |\u001b[0m       proxy_redirect off;\n",
            "\u001b[36mxbzhrhoe6x-algo-1-gbqlu |\u001b[0m       proxy_read_timeout 60s;\n",
            "\u001b[36mxbzhrhoe6x-algo-1-gbqlu |\u001b[0m       proxy_pass http://gunicorn;\n",
            "\u001b[36mxbzhrhoe6x-algo-1-gbqlu |\u001b[0m     }\n",
            "\u001b[36mxbzhrhoe6x-algo-1-gbqlu |\u001b[0m \n",
            "\u001b[36mxbzhrhoe6x-algo-1-gbqlu |\u001b[0m     location / {\n",
            "\u001b[36mxbzhrhoe6x-algo-1-gbqlu |\u001b[0m       return 404 \"{}\";\n",
            "\u001b[36mxbzhrhoe6x-algo-1-gbqlu |\u001b[0m     }\n",
            "\u001b[36mxbzhrhoe6x-algo-1-gbqlu |\u001b[0m \n",
            "\u001b[36mxbzhrhoe6x-algo-1-gbqlu |\u001b[0m   }\n",
            "\u001b[36mxbzhrhoe6x-algo-1-gbqlu |\u001b[0m }\n",
            "\u001b[36mxbzhrhoe6x-algo-1-gbqlu |\u001b[0m \n",
            "\u001b[36mxbzhrhoe6x-algo-1-gbqlu |\u001b[0m \n",
            "\u001b[36mxbzhrhoe6x-algo-1-gbqlu |\u001b[0m 2021-05-19 08:40:18,164 INFO - sagemaker-containers - Module sklearn_pipeline does not provide a setup.py. \n",
            "\u001b[36mxbzhrhoe6x-algo-1-gbqlu |\u001b[0m Generating setup.py\n",
            "\u001b[36mxbzhrhoe6x-algo-1-gbqlu |\u001b[0m 2021-05-19 08:40:18,165 INFO - sagemaker-containers - Generating setup.cfg\n",
            "\u001b[36mxbzhrhoe6x-algo-1-gbqlu |\u001b[0m 2021-05-19 08:40:18,165 INFO - sagemaker-containers - Generating MANIFEST.in\n",
            "\u001b[36mxbzhrhoe6x-algo-1-gbqlu |\u001b[0m 2021-05-19 08:40:18,165 INFO - sagemaker-containers - Installing module with the following command:\n",
            "\u001b[36mxbzhrhoe6x-algo-1-gbqlu |\u001b[0m /miniconda3/bin/python -m pip install . \n",
            "\u001b[36mxbzhrhoe6x-algo-1-gbqlu |\u001b[0m Processing /opt/ml/code\n",
            "\u001b[36mxbzhrhoe6x-algo-1-gbqlu |\u001b[0m Building wheels for collected packages: sklearn-pipeline\n",
            "\u001b[36mxbzhrhoe6x-algo-1-gbqlu |\u001b[0m   Building wheel for sklearn-pipeline (setup.py) ... \u001b[?25ldone\n",
            "\u001b[36mxbzhrhoe6x-algo-1-gbqlu |\u001b[0m \u001b[?25h  Created wheel for sklearn-pipeline: filename=sklearn_pipeline-1.0.0-py2.py3-none-any.whl size=8478 sha256=c18997fa7541e642d39e49d07517959c097d9849b70f2d1eb59c2c513ebcfd47\n",
            "\u001b[36mxbzhrhoe6x-algo-1-gbqlu |\u001b[0m   Stored in directory: /home/model-server/tmp/pip-ephem-wheel-cache-7960uptj/wheels/3e/0f/51/2f1df833dd0412c1bc2f5ee56baac195b5be563353d111dca6\n",
            "\u001b[36mxbzhrhoe6x-algo-1-gbqlu |\u001b[0m Successfully built sklearn-pipeline\n",
            "\u001b[36mxbzhrhoe6x-algo-1-gbqlu |\u001b[0m Installing collected packages: sklearn-pipeline\n",
            "\u001b[36mxbzhrhoe6x-algo-1-gbqlu |\u001b[0m Successfully installed sklearn-pipeline-1.0.0\n"
          ],
          "name": "stdout"
        },
        {
          "output_type": "stream",
          "text": [
            "INFO:sagemaker.local.entities:Checking if serving container is up, attempt: 10\n"
          ],
          "name": "stderr"
        },
        {
          "output_type": "stream",
          "text": [
            "\u001b[36mxbzhrhoe6x-algo-1-gbqlu |\u001b[0m [2021-05-19 08:40:20 +0000] [30] [INFO] Starting gunicorn 20.0.4\n",
            "\u001b[36mxbzhrhoe6x-algo-1-gbqlu |\u001b[0m [2021-05-19 08:40:20 +0000] [30] [INFO] Listening at: unix:/tmp/gunicorn.sock (30)\n",
            "\u001b[36mxbzhrhoe6x-algo-1-gbqlu |\u001b[0m [2021-05-19 08:40:20 +0000] [30] [INFO] Using worker: gevent\n",
            "\u001b[36mxbzhrhoe6x-algo-1-gbqlu |\u001b[0m [2021-05-19 08:40:20 +0000] [33] [INFO] Booting worker with pid: 33\n",
            "\u001b[36mxbzhrhoe6x-algo-1-gbqlu |\u001b[0m [2021-05-19 08:40:20 +0000] [34] [INFO] Booting worker with pid: 34\n",
            "\u001b[36mxbzhrhoe6x-algo-1-gbqlu |\u001b[0m 2021-05-19 08:40:21,192 INFO - sagemaker-containers - No GPUs detected (normal if no gpus installed)\n",
            "!\u001b[36mxbzhrhoe6x-algo-1-gbqlu |\u001b[0m 172.18.0.1 - - [19/May/2021:08:40:21 +0000] \"GET /ping HTTP/1.1\" 200 0 \"-\" \"python-urllib3/1.26.4\"\n",
            "\u001b[36mxbzhrhoe6x-algo-1-gbqlu |\u001b[0m 2021-05-19 08:40:21,796 INFO - sagemaker-containers - No GPUs detected (normal if no gpus installed)\n",
            "{'instances': [{'features': [-1.1560428086829155, 0.7719496164846016, 0.7433308916510305, -0.49323393384425046, -0.4454382074687401, -0.6362114070375079, -0.4206984222235789, -0.6149374443958345, -0.31205451913809157, -0.0864987054157523, 0.15531753037148296, 1.0, 0.0, 0.0, 0.0, 0.0]}]}\n",
            "\u001b[36mxbzhrhoe6x-algo-1-gbqlu |\u001b[0m 172.18.0.1 - - [19/May/2021:08:40:22 +0000] \"POST /invocations HTTP/1.1\" 200 287 \"-\" \"python-urllib3/1.26.4\"\n"
          ],
          "name": "stdout"
        }
      ]
    },
    {
      "cell_type": "code",
      "metadata": {
        "id": "nG4UkCAqlyzY"
      },
      "source": [
        ""
      ],
      "execution_count": null,
      "outputs": []
    }
  ]
}